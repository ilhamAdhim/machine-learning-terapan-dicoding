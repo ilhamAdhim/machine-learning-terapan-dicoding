{
  "nbformat": 4,
  "nbformat_minor": 0,
  "metadata": {
    "colab": {
      "name": "Submission 1 - MLT.ipynb",
      "provenance": [],
      "collapsed_sections": [],
      "authorship_tag": "ABX9TyNwNfR+A57nAEHrmUDIdt5/",
      "include_colab_link": true
    },
    "kernelspec": {
      "display_name": "Python 3",
      "name": "python3"
    },
    "language_info": {
      "name": "python"
    }
  },
  "cells": [
    {
      "cell_type": "markdown",
      "metadata": {
        "id": "view-in-github",
        "colab_type": "text"
      },
      "source": [
        "<a href=\"https://colab.research.google.com/github/ilhamAdhim/machine-learning-terapan-dicoding/blob/main/Submission_1_MLT.ipynb\" target=\"_parent\"><img src=\"https://colab.research.google.com/assets/colab-badge.svg\" alt=\"Open In Colab\"/></a>"
      ]
    },
    {
      "cell_type": "code",
      "metadata": {
        "colab": {
          "base_uri": "https://localhost:8080/",
          "height": 0
        },
        "id": "hygtTdj2YxzJ",
        "outputId": "4f51b95b-df04-43f0-ff9c-4d240944fe51"
      },
      "source": [
        "!pip install opendatasets"
      ],
      "execution_count": 24,
      "outputs": [
        {
          "output_type": "stream",
          "name": "stdout",
          "text": [
            "Requirement already satisfied: opendatasets in /usr/local/lib/python3.7/dist-packages (0.1.20)\n",
            "Requirement already satisfied: tqdm in /usr/local/lib/python3.7/dist-packages (from opendatasets) (4.62.3)\n",
            "Requirement already satisfied: click in /usr/local/lib/python3.7/dist-packages (from opendatasets) (7.1.2)\n",
            "Requirement already satisfied: kaggle in /usr/local/lib/python3.7/dist-packages (from opendatasets) (1.5.12)\n",
            "Requirement already satisfied: python-dateutil in /usr/local/lib/python3.7/dist-packages (from kaggle->opendatasets) (2.8.2)\n",
            "Requirement already satisfied: six>=1.10 in /usr/local/lib/python3.7/dist-packages (from kaggle->opendatasets) (1.15.0)\n",
            "Requirement already satisfied: certifi in /usr/local/lib/python3.7/dist-packages (from kaggle->opendatasets) (2021.5.30)\n",
            "Requirement already satisfied: python-slugify in /usr/local/lib/python3.7/dist-packages (from kaggle->opendatasets) (5.0.2)\n",
            "Requirement already satisfied: requests in /usr/local/lib/python3.7/dist-packages (from kaggle->opendatasets) (2.23.0)\n",
            "Requirement already satisfied: urllib3 in /usr/local/lib/python3.7/dist-packages (from kaggle->opendatasets) (1.24.3)\n",
            "Requirement already satisfied: text-unidecode>=1.3 in /usr/local/lib/python3.7/dist-packages (from python-slugify->kaggle->opendatasets) (1.3)\n",
            "Requirement already satisfied: chardet<4,>=3.0.2 in /usr/local/lib/python3.7/dist-packages (from requests->kaggle->opendatasets) (3.0.4)\n",
            "Requirement already satisfied: idna<3,>=2.5 in /usr/local/lib/python3.7/dist-packages (from requests->kaggle->opendatasets) (2.10)\n"
          ]
        }
      ]
    },
    {
      "cell_type": "code",
      "metadata": {
        "id": "lvPHaHjBY1QD"
      },
      "source": [
        "# Import all required libraries\n",
        "import numpy as np\n",
        "import pandas as pd\n",
        "import tensorflow as tf\n",
        "import matplotlib\n",
        "import matplotlib.ticker as ticker\n",
        "import matplotlib.pyplot as plt\n",
        "import matplotlib.dates as mdates\n",
        "\n",
        "# Importing layers from keras. Use LSTM for input layer, and Dense for hidden and output layer\n",
        "from keras.layers import Dense, LSTM, Dropout\n",
        "from keras.models import Sequential\n",
        "\n",
        "# Import SGD Optimizers\n",
        "from tensorflow.keras.optimizers import Adam\n",
        "\n",
        "# Import for splitting test and training data set\n",
        "from sklearn.preprocessing import MinMaxScaler\n",
        "from sklearn.model_selection import train_test_split\n",
        "import seaborn as sns\n",
        "\n",
        "import opendatasets as od"
      ],
      "execution_count": 25,
      "outputs": []
    },
    {
      "cell_type": "code",
      "metadata": {
        "colab": {
          "base_uri": "https://localhost:8080/",
          "height": 0
        },
        "id": "d6x4o1VlY2wp",
        "outputId": "b571626c-2d7e-4412-dfa5-24a980b627b7"
      },
      "source": [
        "od.download(\"https://www.kaggle.com/fawwazzainiahmad/indonesian-government-owned-company-stock-price\")"
      ],
      "execution_count": 26,
      "outputs": [
        {
          "output_type": "stream",
          "name": "stdout",
          "text": [
            "Skipping, found downloaded files in \"./indonesian-government-owned-company-stock-price\" (use force=True to force download)\n"
          ]
        }
      ]
    },
    {
      "cell_type": "code",
      "metadata": {
        "colab": {
          "base_uri": "https://localhost:8080/",
          "height": 417
        },
        "id": "SDlqgVDZY4Bm",
        "outputId": "746c090d-b39c-46b9-a738-56cde50a85a6"
      },
      "source": [
        "df = pd.read_csv('/content/indonesian-government-owned-company-stock-price/TLKM.JK.csv', parse_dates=True, squeeze=True)\n",
        "df"
      ],
      "execution_count": 27,
      "outputs": [
        {
          "output_type": "execute_result",
          "data": {
            "text/html": [
              "<div>\n",
              "<style scoped>\n",
              "    .dataframe tbody tr th:only-of-type {\n",
              "        vertical-align: middle;\n",
              "    }\n",
              "\n",
              "    .dataframe tbody tr th {\n",
              "        vertical-align: top;\n",
              "    }\n",
              "\n",
              "    .dataframe thead th {\n",
              "        text-align: right;\n",
              "    }\n",
              "</style>\n",
              "<table border=\"1\" class=\"dataframe\">\n",
              "  <thead>\n",
              "    <tr style=\"text-align: right;\">\n",
              "      <th></th>\n",
              "      <th>Date</th>\n",
              "      <th>Open</th>\n",
              "      <th>High</th>\n",
              "      <th>Low</th>\n",
              "      <th>Close</th>\n",
              "      <th>Adj Close</th>\n",
              "      <th>Volume</th>\n",
              "    </tr>\n",
              "  </thead>\n",
              "  <tbody>\n",
              "    <tr>\n",
              "      <th>0</th>\n",
              "      <td>2004-09-28</td>\n",
              "      <td>835.0</td>\n",
              "      <td>835.0</td>\n",
              "      <td>825.0</td>\n",
              "      <td>825.0</td>\n",
              "      <td>117.375580</td>\n",
              "      <td>90095000.0</td>\n",
              "    </tr>\n",
              "    <tr>\n",
              "      <th>1</th>\n",
              "      <td>2004-09-29</td>\n",
              "      <td>825.0</td>\n",
              "      <td>825.0</td>\n",
              "      <td>810.0</td>\n",
              "      <td>825.0</td>\n",
              "      <td>117.375580</td>\n",
              "      <td>29370000.0</td>\n",
              "    </tr>\n",
              "    <tr>\n",
              "      <th>2</th>\n",
              "      <td>2004-09-30</td>\n",
              "      <td>825.0</td>\n",
              "      <td>830.0</td>\n",
              "      <td>825.0</td>\n",
              "      <td>830.0</td>\n",
              "      <td>118.086952</td>\n",
              "      <td>42927500.0</td>\n",
              "    </tr>\n",
              "    <tr>\n",
              "      <th>3</th>\n",
              "      <td>2004-10-01</td>\n",
              "      <td>830.0</td>\n",
              "      <td>845.0</td>\n",
              "      <td>825.0</td>\n",
              "      <td>840.0</td>\n",
              "      <td>119.509682</td>\n",
              "      <td>108387500.0</td>\n",
              "    </tr>\n",
              "    <tr>\n",
              "      <th>4</th>\n",
              "      <td>2004-10-04</td>\n",
              "      <td>845.0</td>\n",
              "      <td>880.0</td>\n",
              "      <td>845.0</td>\n",
              "      <td>870.0</td>\n",
              "      <td>123.777878</td>\n",
              "      <td>424210000.0</td>\n",
              "    </tr>\n",
              "    <tr>\n",
              "      <th>...</th>\n",
              "      <td>...</td>\n",
              "      <td>...</td>\n",
              "      <td>...</td>\n",
              "      <td>...</td>\n",
              "      <td>...</td>\n",
              "      <td>...</td>\n",
              "      <td>...</td>\n",
              "    </tr>\n",
              "    <tr>\n",
              "      <th>3975</th>\n",
              "      <td>2020-09-28</td>\n",
              "      <td>2710.0</td>\n",
              "      <td>2730.0</td>\n",
              "      <td>2660.0</td>\n",
              "      <td>2660.0</td>\n",
              "      <td>2660.000000</td>\n",
              "      <td>89256700.0</td>\n",
              "    </tr>\n",
              "    <tr>\n",
              "      <th>3976</th>\n",
              "      <td>2020-09-29</td>\n",
              "      <td>2690.0</td>\n",
              "      <td>2690.0</td>\n",
              "      <td>2630.0</td>\n",
              "      <td>2630.0</td>\n",
              "      <td>2630.000000</td>\n",
              "      <td>155853900.0</td>\n",
              "    </tr>\n",
              "    <tr>\n",
              "      <th>3977</th>\n",
              "      <td>2020-09-30</td>\n",
              "      <td>2630.0</td>\n",
              "      <td>2650.0</td>\n",
              "      <td>2540.0</td>\n",
              "      <td>2560.0</td>\n",
              "      <td>2560.000000</td>\n",
              "      <td>235611600.0</td>\n",
              "    </tr>\n",
              "    <tr>\n",
              "      <th>3978</th>\n",
              "      <td>2020-10-01</td>\n",
              "      <td>2600.0</td>\n",
              "      <td>2760.0</td>\n",
              "      <td>2600.0</td>\n",
              "      <td>2750.0</td>\n",
              "      <td>2750.000000</td>\n",
              "      <td>225006000.0</td>\n",
              "    </tr>\n",
              "    <tr>\n",
              "      <th>3979</th>\n",
              "      <td>2020-10-02</td>\n",
              "      <td>2750.0</td>\n",
              "      <td>2750.0</td>\n",
              "      <td>2650.0</td>\n",
              "      <td>2680.0</td>\n",
              "      <td>2680.000000</td>\n",
              "      <td>140161900.0</td>\n",
              "    </tr>\n",
              "  </tbody>\n",
              "</table>\n",
              "<p>3980 rows × 7 columns</p>\n",
              "</div>"
            ],
            "text/plain": [
              "            Date    Open    High     Low   Close    Adj Close       Volume\n",
              "0     2004-09-28   835.0   835.0   825.0   825.0   117.375580   90095000.0\n",
              "1     2004-09-29   825.0   825.0   810.0   825.0   117.375580   29370000.0\n",
              "2     2004-09-30   825.0   830.0   825.0   830.0   118.086952   42927500.0\n",
              "3     2004-10-01   830.0   845.0   825.0   840.0   119.509682  108387500.0\n",
              "4     2004-10-04   845.0   880.0   845.0   870.0   123.777878  424210000.0\n",
              "...          ...     ...     ...     ...     ...          ...          ...\n",
              "3975  2020-09-28  2710.0  2730.0  2660.0  2660.0  2660.000000   89256700.0\n",
              "3976  2020-09-29  2690.0  2690.0  2630.0  2630.0  2630.000000  155853900.0\n",
              "3977  2020-09-30  2630.0  2650.0  2540.0  2560.0  2560.000000  235611600.0\n",
              "3978  2020-10-01  2600.0  2760.0  2600.0  2750.0  2750.000000  225006000.0\n",
              "3979  2020-10-02  2750.0  2750.0  2650.0  2680.0  2680.000000  140161900.0\n",
              "\n",
              "[3980 rows x 7 columns]"
            ]
          },
          "metadata": {},
          "execution_count": 27
        }
      ]
    },
    {
      "cell_type": "code",
      "metadata": {
        "colab": {
          "base_uri": "https://localhost:8080/",
          "height": 0
        },
        "id": "iXTfnqGlZYfB",
        "outputId": "4da44589-a419-42ca-8226-ec16629f391f"
      },
      "source": [
        "print(\"Total Data : {} \\n\".format(len(df)))\n",
        "print(\"Date range from : {} to {}\".format(df.head(1)['Date'].values, df.tail(1)['Date'].values))"
      ],
      "execution_count": 28,
      "outputs": [
        {
          "output_type": "stream",
          "name": "stdout",
          "text": [
            "Total Data : 3980 \n",
            "\n",
            "Date range from : ['2004-09-28'] to ['2020-10-02']\n"
          ]
        }
      ]
    },
    {
      "cell_type": "code",
      "metadata": {
        "colab": {
          "base_uri": "https://localhost:8080/",
          "height": 0
        },
        "id": "ISO_1PstkNWO",
        "outputId": "1264c627-23c1-4599-f867-6f75c574d41b"
      },
      "source": [
        "df.info()"
      ],
      "execution_count": 29,
      "outputs": [
        {
          "output_type": "stream",
          "name": "stdout",
          "text": [
            "<class 'pandas.core.frame.DataFrame'>\n",
            "RangeIndex: 3980 entries, 0 to 3979\n",
            "Data columns (total 7 columns):\n",
            " #   Column     Non-Null Count  Dtype  \n",
            "---  ------     --------------  -----  \n",
            " 0   Date       3980 non-null   object \n",
            " 1   Open       3944 non-null   float64\n",
            " 2   High       3944 non-null   float64\n",
            " 3   Low        3944 non-null   float64\n",
            " 4   Close      3944 non-null   float64\n",
            " 5   Adj Close  3944 non-null   float64\n",
            " 6   Volume     3944 non-null   float64\n",
            "dtypes: float64(6), object(1)\n",
            "memory usage: 217.8+ KB\n"
          ]
        }
      ]
    },
    {
      "cell_type": "code",
      "metadata": {
        "colab": {
          "base_uri": "https://localhost:8080/",
          "height": 417
        },
        "id": "1oMA62z7kQlM",
        "outputId": "7093f912-663d-4941-d555-c1824aa8fc06"
      },
      "source": [
        "df_new = df.dropna(how='any',axis=0) \n",
        "df_new"
      ],
      "execution_count": 30,
      "outputs": [
        {
          "output_type": "execute_result",
          "data": {
            "text/html": [
              "<div>\n",
              "<style scoped>\n",
              "    .dataframe tbody tr th:only-of-type {\n",
              "        vertical-align: middle;\n",
              "    }\n",
              "\n",
              "    .dataframe tbody tr th {\n",
              "        vertical-align: top;\n",
              "    }\n",
              "\n",
              "    .dataframe thead th {\n",
              "        text-align: right;\n",
              "    }\n",
              "</style>\n",
              "<table border=\"1\" class=\"dataframe\">\n",
              "  <thead>\n",
              "    <tr style=\"text-align: right;\">\n",
              "      <th></th>\n",
              "      <th>Date</th>\n",
              "      <th>Open</th>\n",
              "      <th>High</th>\n",
              "      <th>Low</th>\n",
              "      <th>Close</th>\n",
              "      <th>Adj Close</th>\n",
              "      <th>Volume</th>\n",
              "    </tr>\n",
              "  </thead>\n",
              "  <tbody>\n",
              "    <tr>\n",
              "      <th>0</th>\n",
              "      <td>2004-09-28</td>\n",
              "      <td>835.0</td>\n",
              "      <td>835.0</td>\n",
              "      <td>825.0</td>\n",
              "      <td>825.0</td>\n",
              "      <td>117.375580</td>\n",
              "      <td>90095000.0</td>\n",
              "    </tr>\n",
              "    <tr>\n",
              "      <th>1</th>\n",
              "      <td>2004-09-29</td>\n",
              "      <td>825.0</td>\n",
              "      <td>825.0</td>\n",
              "      <td>810.0</td>\n",
              "      <td>825.0</td>\n",
              "      <td>117.375580</td>\n",
              "      <td>29370000.0</td>\n",
              "    </tr>\n",
              "    <tr>\n",
              "      <th>2</th>\n",
              "      <td>2004-09-30</td>\n",
              "      <td>825.0</td>\n",
              "      <td>830.0</td>\n",
              "      <td>825.0</td>\n",
              "      <td>830.0</td>\n",
              "      <td>118.086952</td>\n",
              "      <td>42927500.0</td>\n",
              "    </tr>\n",
              "    <tr>\n",
              "      <th>3</th>\n",
              "      <td>2004-10-01</td>\n",
              "      <td>830.0</td>\n",
              "      <td>845.0</td>\n",
              "      <td>825.0</td>\n",
              "      <td>840.0</td>\n",
              "      <td>119.509682</td>\n",
              "      <td>108387500.0</td>\n",
              "    </tr>\n",
              "    <tr>\n",
              "      <th>4</th>\n",
              "      <td>2004-10-04</td>\n",
              "      <td>845.0</td>\n",
              "      <td>880.0</td>\n",
              "      <td>845.0</td>\n",
              "      <td>870.0</td>\n",
              "      <td>123.777878</td>\n",
              "      <td>424210000.0</td>\n",
              "    </tr>\n",
              "    <tr>\n",
              "      <th>...</th>\n",
              "      <td>...</td>\n",
              "      <td>...</td>\n",
              "      <td>...</td>\n",
              "      <td>...</td>\n",
              "      <td>...</td>\n",
              "      <td>...</td>\n",
              "      <td>...</td>\n",
              "    </tr>\n",
              "    <tr>\n",
              "      <th>3975</th>\n",
              "      <td>2020-09-28</td>\n",
              "      <td>2710.0</td>\n",
              "      <td>2730.0</td>\n",
              "      <td>2660.0</td>\n",
              "      <td>2660.0</td>\n",
              "      <td>2660.000000</td>\n",
              "      <td>89256700.0</td>\n",
              "    </tr>\n",
              "    <tr>\n",
              "      <th>3976</th>\n",
              "      <td>2020-09-29</td>\n",
              "      <td>2690.0</td>\n",
              "      <td>2690.0</td>\n",
              "      <td>2630.0</td>\n",
              "      <td>2630.0</td>\n",
              "      <td>2630.000000</td>\n",
              "      <td>155853900.0</td>\n",
              "    </tr>\n",
              "    <tr>\n",
              "      <th>3977</th>\n",
              "      <td>2020-09-30</td>\n",
              "      <td>2630.0</td>\n",
              "      <td>2650.0</td>\n",
              "      <td>2540.0</td>\n",
              "      <td>2560.0</td>\n",
              "      <td>2560.000000</td>\n",
              "      <td>235611600.0</td>\n",
              "    </tr>\n",
              "    <tr>\n",
              "      <th>3978</th>\n",
              "      <td>2020-10-01</td>\n",
              "      <td>2600.0</td>\n",
              "      <td>2760.0</td>\n",
              "      <td>2600.0</td>\n",
              "      <td>2750.0</td>\n",
              "      <td>2750.000000</td>\n",
              "      <td>225006000.0</td>\n",
              "    </tr>\n",
              "    <tr>\n",
              "      <th>3979</th>\n",
              "      <td>2020-10-02</td>\n",
              "      <td>2750.0</td>\n",
              "      <td>2750.0</td>\n",
              "      <td>2650.0</td>\n",
              "      <td>2680.0</td>\n",
              "      <td>2680.000000</td>\n",
              "      <td>140161900.0</td>\n",
              "    </tr>\n",
              "  </tbody>\n",
              "</table>\n",
              "<p>3944 rows × 7 columns</p>\n",
              "</div>"
            ],
            "text/plain": [
              "            Date    Open    High     Low   Close    Adj Close       Volume\n",
              "0     2004-09-28   835.0   835.0   825.0   825.0   117.375580   90095000.0\n",
              "1     2004-09-29   825.0   825.0   810.0   825.0   117.375580   29370000.0\n",
              "2     2004-09-30   825.0   830.0   825.0   830.0   118.086952   42927500.0\n",
              "3     2004-10-01   830.0   845.0   825.0   840.0   119.509682  108387500.0\n",
              "4     2004-10-04   845.0   880.0   845.0   870.0   123.777878  424210000.0\n",
              "...          ...     ...     ...     ...     ...          ...          ...\n",
              "3975  2020-09-28  2710.0  2730.0  2660.0  2660.0  2660.000000   89256700.0\n",
              "3976  2020-09-29  2690.0  2690.0  2630.0  2630.0  2630.000000  155853900.0\n",
              "3977  2020-09-30  2630.0  2650.0  2540.0  2560.0  2560.000000  235611600.0\n",
              "3978  2020-10-01  2600.0  2760.0  2600.0  2750.0  2750.000000  225006000.0\n",
              "3979  2020-10-02  2750.0  2750.0  2650.0  2680.0  2680.000000  140161900.0\n",
              "\n",
              "[3944 rows x 7 columns]"
            ]
          },
          "metadata": {},
          "execution_count": 30
        }
      ]
    },
    {
      "cell_type": "code",
      "metadata": {
        "colab": {
          "base_uri": "https://localhost:8080/",
          "height": 203
        },
        "id": "mRk1dKHXZbvJ",
        "outputId": "5832574f-56f0-4e5a-864b-e99793b3bfbb"
      },
      "source": [
        "# Display 5 latest data to check the latest date\n",
        "df_new.tail()"
      ],
      "execution_count": 31,
      "outputs": [
        {
          "output_type": "execute_result",
          "data": {
            "text/html": [
              "<div>\n",
              "<style scoped>\n",
              "    .dataframe tbody tr th:only-of-type {\n",
              "        vertical-align: middle;\n",
              "    }\n",
              "\n",
              "    .dataframe tbody tr th {\n",
              "        vertical-align: top;\n",
              "    }\n",
              "\n",
              "    .dataframe thead th {\n",
              "        text-align: right;\n",
              "    }\n",
              "</style>\n",
              "<table border=\"1\" class=\"dataframe\">\n",
              "  <thead>\n",
              "    <tr style=\"text-align: right;\">\n",
              "      <th></th>\n",
              "      <th>Date</th>\n",
              "      <th>Open</th>\n",
              "      <th>High</th>\n",
              "      <th>Low</th>\n",
              "      <th>Close</th>\n",
              "      <th>Adj Close</th>\n",
              "      <th>Volume</th>\n",
              "    </tr>\n",
              "  </thead>\n",
              "  <tbody>\n",
              "    <tr>\n",
              "      <th>3975</th>\n",
              "      <td>2020-09-28</td>\n",
              "      <td>2710.0</td>\n",
              "      <td>2730.0</td>\n",
              "      <td>2660.0</td>\n",
              "      <td>2660.0</td>\n",
              "      <td>2660.0</td>\n",
              "      <td>89256700.0</td>\n",
              "    </tr>\n",
              "    <tr>\n",
              "      <th>3976</th>\n",
              "      <td>2020-09-29</td>\n",
              "      <td>2690.0</td>\n",
              "      <td>2690.0</td>\n",
              "      <td>2630.0</td>\n",
              "      <td>2630.0</td>\n",
              "      <td>2630.0</td>\n",
              "      <td>155853900.0</td>\n",
              "    </tr>\n",
              "    <tr>\n",
              "      <th>3977</th>\n",
              "      <td>2020-09-30</td>\n",
              "      <td>2630.0</td>\n",
              "      <td>2650.0</td>\n",
              "      <td>2540.0</td>\n",
              "      <td>2560.0</td>\n",
              "      <td>2560.0</td>\n",
              "      <td>235611600.0</td>\n",
              "    </tr>\n",
              "    <tr>\n",
              "      <th>3978</th>\n",
              "      <td>2020-10-01</td>\n",
              "      <td>2600.0</td>\n",
              "      <td>2760.0</td>\n",
              "      <td>2600.0</td>\n",
              "      <td>2750.0</td>\n",
              "      <td>2750.0</td>\n",
              "      <td>225006000.0</td>\n",
              "    </tr>\n",
              "    <tr>\n",
              "      <th>3979</th>\n",
              "      <td>2020-10-02</td>\n",
              "      <td>2750.0</td>\n",
              "      <td>2750.0</td>\n",
              "      <td>2650.0</td>\n",
              "      <td>2680.0</td>\n",
              "      <td>2680.0</td>\n",
              "      <td>140161900.0</td>\n",
              "    </tr>\n",
              "  </tbody>\n",
              "</table>\n",
              "</div>"
            ],
            "text/plain": [
              "            Date    Open    High     Low   Close  Adj Close       Volume\n",
              "3975  2020-09-28  2710.0  2730.0  2660.0  2660.0     2660.0   89256700.0\n",
              "3976  2020-09-29  2690.0  2690.0  2630.0  2630.0     2630.0  155853900.0\n",
              "3977  2020-09-30  2630.0  2650.0  2540.0  2560.0     2560.0  235611600.0\n",
              "3978  2020-10-01  2600.0  2760.0  2600.0  2750.0     2750.0  225006000.0\n",
              "3979  2020-10-02  2750.0  2750.0  2650.0  2680.0     2680.0  140161900.0"
            ]
          },
          "metadata": {},
          "execution_count": 31
        }
      ]
    },
    {
      "cell_type": "code",
      "metadata": {
        "colab": {
          "base_uri": "https://localhost:8080/",
          "height": 295
        },
        "id": "SEFs0bom7_SZ",
        "outputId": "d1beeb7f-9d18-4c71-fcc4-02e4b26546db"
      },
      "source": [
        "df_new.describe()"
      ],
      "execution_count": 32,
      "outputs": [
        {
          "output_type": "execute_result",
          "data": {
            "text/html": [
              "<div>\n",
              "<style scoped>\n",
              "    .dataframe tbody tr th:only-of-type {\n",
              "        vertical-align: middle;\n",
              "    }\n",
              "\n",
              "    .dataframe tbody tr th {\n",
              "        vertical-align: top;\n",
              "    }\n",
              "\n",
              "    .dataframe thead th {\n",
              "        text-align: right;\n",
              "    }\n",
              "</style>\n",
              "<table border=\"1\" class=\"dataframe\">\n",
              "  <thead>\n",
              "    <tr style=\"text-align: right;\">\n",
              "      <th></th>\n",
              "      <th>Open</th>\n",
              "      <th>High</th>\n",
              "      <th>Low</th>\n",
              "      <th>Close</th>\n",
              "      <th>Adj Close</th>\n",
              "      <th>Volume</th>\n",
              "    </tr>\n",
              "  </thead>\n",
              "  <tbody>\n",
              "    <tr>\n",
              "      <th>count</th>\n",
              "      <td>3944.000000</td>\n",
              "      <td>3944.000000</td>\n",
              "      <td>3944.000000</td>\n",
              "      <td>3944.000000</td>\n",
              "      <td>3944.000000</td>\n",
              "      <td>3.944000e+03</td>\n",
              "    </tr>\n",
              "    <tr>\n",
              "      <th>mean</th>\n",
              "      <td>2436.882860</td>\n",
              "      <td>2464.980984</td>\n",
              "      <td>2409.163286</td>\n",
              "      <td>2436.994168</td>\n",
              "      <td>1742.819242</td>\n",
              "      <td>9.844441e+07</td>\n",
              "    </tr>\n",
              "    <tr>\n",
              "      <th>std</th>\n",
              "      <td>1076.058496</td>\n",
              "      <td>1084.441789</td>\n",
              "      <td>1068.223754</td>\n",
              "      <td>1076.106605</td>\n",
              "      <td>1400.825963</td>\n",
              "      <td>6.096605e+07</td>\n",
              "    </tr>\n",
              "    <tr>\n",
              "      <th>min</th>\n",
              "      <td>820.000000</td>\n",
              "      <td>825.000000</td>\n",
              "      <td>810.000000</td>\n",
              "      <td>825.000000</td>\n",
              "      <td>117.375580</td>\n",
              "      <td>0.000000e+00</td>\n",
              "    </tr>\n",
              "    <tr>\n",
              "      <th>25%</th>\n",
              "      <td>1540.000000</td>\n",
              "      <td>1560.000000</td>\n",
              "      <td>1520.000000</td>\n",
              "      <td>1540.000000</td>\n",
              "      <td>443.950134</td>\n",
              "      <td>6.014665e+07</td>\n",
              "    </tr>\n",
              "    <tr>\n",
              "      <th>50%</th>\n",
              "      <td>2100.000000</td>\n",
              "      <td>2125.000000</td>\n",
              "      <td>2060.000000</td>\n",
              "      <td>2100.000000</td>\n",
              "      <td>1266.817993</td>\n",
              "      <td>8.548225e+07</td>\n",
              "    </tr>\n",
              "    <tr>\n",
              "      <th>75%</th>\n",
              "      <td>3406.250000</td>\n",
              "      <td>3456.250000</td>\n",
              "      <td>3370.000000</td>\n",
              "      <td>3422.500000</td>\n",
              "      <td>3155.009827</td>\n",
              "      <td>1.209330e+08</td>\n",
              "    </tr>\n",
              "    <tr>\n",
              "      <th>max</th>\n",
              "      <td>4800.000000</td>\n",
              "      <td>4840.000000</td>\n",
              "      <td>4780.000000</td>\n",
              "      <td>4800.000000</td>\n",
              "      <td>4465.643555</td>\n",
              "      <td>8.080050e+08</td>\n",
              "    </tr>\n",
              "  </tbody>\n",
              "</table>\n",
              "</div>"
            ],
            "text/plain": [
              "              Open         High  ...    Adj Close        Volume\n",
              "count  3944.000000  3944.000000  ...  3944.000000  3.944000e+03\n",
              "mean   2436.882860  2464.980984  ...  1742.819242  9.844441e+07\n",
              "std    1076.058496  1084.441789  ...  1400.825963  6.096605e+07\n",
              "min     820.000000   825.000000  ...   117.375580  0.000000e+00\n",
              "25%    1540.000000  1560.000000  ...   443.950134  6.014665e+07\n",
              "50%    2100.000000  2125.000000  ...  1266.817993  8.548225e+07\n",
              "75%    3406.250000  3456.250000  ...  3155.009827  1.209330e+08\n",
              "max    4800.000000  4840.000000  ...  4465.643555  8.080050e+08\n",
              "\n",
              "[8 rows x 6 columns]"
            ]
          },
          "metadata": {},
          "execution_count": 32
        }
      ]
    },
    {
      "cell_type": "code",
      "metadata": {
        "colab": {
          "base_uri": "https://localhost:8080/",
          "height": 0
        },
        "id": "NjXZfvY0YwTw",
        "outputId": "d602139d-bfa9-4ec6-e80e-f52e42fd7b5b"
      },
      "source": [
        "df_new['Date'] = pd.to_datetime(df_new['Date'] , format='%Y-%m-%d')\n",
        "df_new['Date']"
      ],
      "execution_count": 34,
      "outputs": [
        {
          "output_type": "stream",
          "name": "stderr",
          "text": [
            "/usr/local/lib/python3.7/dist-packages/ipykernel_launcher.py:1: SettingWithCopyWarning: \n",
            "A value is trying to be set on a copy of a slice from a DataFrame.\n",
            "Try using .loc[row_indexer,col_indexer] = value instead\n",
            "\n",
            "See the caveats in the documentation: https://pandas.pydata.org/pandas-docs/stable/user_guide/indexing.html#returning-a-view-versus-a-copy\n",
            "  \"\"\"Entry point for launching an IPython kernel.\n"
          ]
        },
        {
          "output_type": "execute_result",
          "data": {
            "text/plain": [
              "0      2004-09-28\n",
              "1      2004-09-29\n",
              "2      2004-09-30\n",
              "3      2004-10-01\n",
              "4      2004-10-04\n",
              "          ...    \n",
              "3975   2020-09-28\n",
              "3976   2020-09-29\n",
              "3977   2020-09-30\n",
              "3978   2020-10-01\n",
              "3979   2020-10-02\n",
              "Name: Date, Length: 3944, dtype: datetime64[ns]"
            ]
          },
          "metadata": {},
          "execution_count": 34
        }
      ]
    },
    {
      "cell_type": "code",
      "metadata": {
        "colab": {
          "base_uri": "https://localhost:8080/",
          "height": 632
        },
        "id": "IFGT0X96ZfzB",
        "outputId": "019509de-de4f-45ce-a6d2-dae3aaa16ec8"
      },
      "source": [
        "visual_plot =df_new[['Date','Close', 'Open', 'High']]\n",
        "\n",
        "plt.figure(figsize=(20,10))\n",
        "\n",
        "sns.lineplot(y=visual_plot['Open'], color=\"r\", x=visual_plot['Date'])\n",
        "sns.lineplot(y=visual_plot['Close'], color=\"g\", x=visual_plot['Date'])\n",
        "sns.lineplot(y=visual_plot['High'], color=\"cyan\", x=visual_plot['Date'])\n",
        "\n",
        "plt.xlabel('Date', fontsize=20)\n",
        "plt.ylabel('Harga', fontsize=20)"
      ],
      "execution_count": 36,
      "outputs": [
        {
          "output_type": "execute_result",
          "data": {
            "text/plain": [
              "Text(0, 0.5, 'Harga')"
            ]
          },
          "metadata": {},
          "execution_count": 36
        },
        {
          "output_type": "display_data",
          "data": {
            "image/png": "[encoded data removed]",
            "text/plain": [
              "<Figure size 1440x720 with 1 Axes>"
            ]
          },
          "metadata": {
            "needs_background": "light"
          }
        }
      ]
    },
    {
      "cell_type": "code",
      "metadata": {
        "id": "73tB1JPgo-ex"
      },
      "source": [
        "df_new.index = df_new['Date']\n",
        "df_new = df_new.drop(['Date','Open','High','Low', 'Volume', 'Adj Close'], axis=1)"
      ],
      "execution_count": 37,
      "outputs": []
    },
    {
      "cell_type": "code",
      "metadata": {
        "id": "o4y1iBtyeaI_"
      },
      "source": [
        "minmax_scaler = MinMaxScaler()\n",
        "df_new = minmax_scaler.fit_transform(df_new)\n",
        "train_set, test_set = df_new[0:int(len(df_new)*0.8), :], df_new[int(len(df_new)*0.8):len(df_new), :]"
      ],
      "execution_count": 38,
      "outputs": []
    },
    {
      "cell_type": "code",
      "metadata": {
        "id": "qwqefZl1orpY"
      },
      "source": [
        "def dataset_preparation(dataset, window):\n",
        "    dframe = []\n",
        "    label = []\n",
        "\n",
        "    for i in range(len(dataset) - window - 1):\n",
        "        data = dataset[i:(i + window), 0]\n",
        "        dframe.append(data)\n",
        "        label.append(dataset[i+window,0])\n",
        "    return np.array(dframe), np.array(label)\n",
        "\n",
        "x_train, y_train = dataset_preparation(train_set,80)\n",
        "x_test, y_test = dataset_preparation(test_set,80)\n",
        "x_train = np.reshape(x_train, (x_train.shape[0], x_train.shape[1],1))\n",
        "x_test = np.reshape(x_test, (x_test.shape[0], x_train.shape[1],1))"
      ],
      "execution_count": 39,
      "outputs": []
    },
    {
      "cell_type": "code",
      "metadata": {
        "id": "D9ETphHBoswI",
        "colab": {
          "base_uri": "https://localhost:8080/",
          "height": 0
        },
        "outputId": "74ed14b3-bc44-40ff-9b61-56d52a61bfa3"
      },
      "source": [
        "print(\"Train Set shapes : {} {}\".format(x_train.shape, y_train.shape))\n",
        "print(\"Test Set shapes : {} {}\".format(x_test.shape, y_test.shape))"
      ],
      "execution_count": 40,
      "outputs": [
        {
          "output_type": "stream",
          "name": "stdout",
          "text": [
            "Train Set shapes : (3074, 80, 1) (3074,)\n",
            "Test Set shapes : (708, 80, 1) (708,)\n"
          ]
        }
      ]
    },
    {
      "cell_type": "code",
      "metadata": {
        "id": "bicpTaHsc1fo"
      },
      "source": [
        "# Arsitektur Model\n",
        "model = Sequential([\n",
        "  LSTM(40),\n",
        "  Dropout(0.2),\n",
        "  Dense(1),\n",
        "])"
      ],
      "execution_count": 41,
      "outputs": []
    },
    {
      "cell_type": "code",
      "metadata": {
        "id": "4pKQWkvzc2z4"
      },
      "source": [
        "# Setting optimizer SGD Optimizer and learning rate\n",
        "optimizer = Adam(learning_rate=0.01)\n",
        "\n",
        "# Compile model with Huber and MAE (Mean Absolute Error) metrics\n",
        "model.compile(\n",
        "    metrics=[\"mae\"],\n",
        "    optimizer=optimizer,\n",
        "    loss='mean_squared_error')"
      ],
      "execution_count": 42,
      "outputs": []
    },
    {
      "cell_type": "code",
      "metadata": {
        "id": "8Mb4ZKO0c5hw",
        "colab": {
          "base_uri": "https://localhost:8080/",
          "height": 0
        },
        "outputId": "1b72d524-f011-48d1-d88d-60f964f5c888"
      },
      "source": [
        "# Training Model and save it to history variable.\n",
        "history = model.fit(x_train, y_train, epochs=20, validation_data=(x_test, y_test))"
      ],
      "execution_count": 43,
      "outputs": [
        {
          "output_type": "stream",
          "name": "stdout",
          "text": [
            "Epoch 1/20\n",
            "97/97 [==============================] - 6s 40ms/step - loss: 0.0084 - mae: 0.0529 - val_loss: 7.8849e-04 - val_mae: 0.0216\n",
            "Epoch 2/20\n",
            "97/97 [==============================] - 3s 36ms/step - loss: 0.0013 - mae: 0.0240 - val_loss: 0.0011 - val_mae: 0.0271\n",
            "Epoch 3/20\n",
            "97/97 [==============================] - 4s 37ms/step - loss: 0.0011 - mae: 0.0217 - val_loss: 0.0015 - val_mae: 0.0329\n",
            "Epoch 4/20\n",
            "97/97 [==============================] - 3s 35ms/step - loss: 8.9425e-04 - mae: 0.0199 - val_loss: 7.9999e-04 - val_mae: 0.0220\n",
            "Epoch 5/20\n",
            "97/97 [==============================] - 3s 35ms/step - loss: 8.4630e-04 - mae: 0.0197 - val_loss: 5.9024e-04 - val_mae: 0.0183\n",
            "Epoch 6/20\n",
            "97/97 [==============================] - 3s 36ms/step - loss: 7.3314e-04 - mae: 0.0182 - val_loss: 8.3540e-04 - val_mae: 0.0228\n",
            "Epoch 7/20\n",
            "97/97 [==============================] - 4s 36ms/step - loss: 7.6827e-04 - mae: 0.0190 - val_loss: 5.4919e-04 - val_mae: 0.0173\n",
            "Epoch 8/20\n",
            "97/97 [==============================] - 3s 36ms/step - loss: 5.8674e-04 - mae: 0.0168 - val_loss: 0.0029 - val_mae: 0.0496\n",
            "Epoch 9/20\n",
            "97/97 [==============================] - 3s 36ms/step - loss: 7.6469e-04 - mae: 0.0187 - val_loss: 0.0037 - val_mae: 0.0568\n",
            "Epoch 10/20\n",
            "97/97 [==============================] - 3s 35ms/step - loss: 6.6058e-04 - mae: 0.0184 - val_loss: 5.4045e-04 - val_mae: 0.0176\n",
            "Epoch 11/20\n",
            "97/97 [==============================] - 3s 34ms/step - loss: 6.7594e-04 - mae: 0.0182 - val_loss: 4.9346e-04 - val_mae: 0.0165\n",
            "Epoch 12/20\n",
            "97/97 [==============================] - 3s 34ms/step - loss: 5.6494e-04 - mae: 0.0170 - val_loss: 0.0012 - val_mae: 0.0289\n",
            "Epoch 13/20\n",
            "97/97 [==============================] - 4s 36ms/step - loss: 6.9718e-04 - mae: 0.0185 - val_loss: 6.8923e-04 - val_mae: 0.0209\n",
            "Epoch 14/20\n",
            "97/97 [==============================] - 4s 36ms/step - loss: 5.6854e-04 - mae: 0.0167 - val_loss: 5.0949e-04 - val_mae: 0.0171\n",
            "Epoch 15/20\n",
            "97/97 [==============================] - 4s 38ms/step - loss: 5.3431e-04 - mae: 0.0165 - val_loss: 5.4370e-04 - val_mae: 0.0179\n",
            "Epoch 16/20\n",
            "97/97 [==============================] - 3s 35ms/step - loss: 5.7062e-04 - mae: 0.0168 - val_loss: 6.1741e-04 - val_mae: 0.0193\n",
            "Epoch 17/20\n",
            "97/97 [==============================] - 4s 37ms/step - loss: 5.5556e-04 - mae: 0.0167 - val_loss: 4.8912e-04 - val_mae: 0.0164\n",
            "Epoch 18/20\n",
            "97/97 [==============================] - 3s 35ms/step - loss: 5.8959e-04 - mae: 0.0170 - val_loss: 0.0016 - val_mae: 0.0346\n",
            "Epoch 19/20\n",
            "97/97 [==============================] - 4s 36ms/step - loss: 6.4321e-04 - mae: 0.0183 - val_loss: 4.2803e-04 - val_mae: 0.0153\n",
            "Epoch 20/20\n",
            "97/97 [==============================] - 3s 36ms/step - loss: 5.4216e-04 - mae: 0.0163 - val_loss: 5.6501e-04 - val_mae: 0.0187\n"
          ]
        }
      ]
    },
    {
      "cell_type": "code",
      "metadata": {
        "id": "wJIECt-ec8ko",
        "colab": {
          "base_uri": "https://localhost:8080/",
          "height": 285
        },
        "outputId": "ba0c8889-4d67-4fe3-8760-40b422a9e8df"
      },
      "source": [
        "# Create plot for mae and val_mae\n",
        "figure, axes = plt.subplots(nrows=2, ncols=2)\n",
        "figure.tight_layout(pad=3.0)\n",
        "\n",
        "plt.subplot(1, 2, 1) # row 1, col 2 index 1\n",
        "plt.plot(history.history['mae'])\n",
        "plt.plot(history.history['val_mae'], 'r')\n",
        "plt.title('Training and Testing MAE Value')\n",
        "plt.xlabel('epoch')\n",
        "plt.legend(['Training MAE', 'Testing MAE'], loc='upper right')\n",
        "\n",
        "# Create plot for loss and val_loss\n",
        "plt.subplot(1, 2, 2) # index 2\n",
        "plt.plot(history.history['loss'])\n",
        "plt.plot(history.history['val_loss'])\n",
        "plt.title('Training and Testing Loss Value')\n",
        "plt.xlabel('epoch')\n",
        "plt.legend(['Training Loss', 'Testing Loss'], loc='upper right')\n",
        "\n",
        "plt.show()"
      ],
      "execution_count": 44,
      "outputs": [
        {
          "output_type": "display_data",
          "data": {
            "image/png": "[encoded data removed]",
            "text/plain": [
              "<Figure size 432x288 with 2 Axes>"
            ]
          },
          "metadata": {
            "needs_background": "light"
          }
        }
      ]
    },
    {
      "cell_type": "code",
      "metadata": {
        "id": "PEjhKmI_pTMz"
      },
      "source": [
        "predict_test = model.predict(x_train)\n",
        "predict_test = minmax_scaler.inverse_transform(predict_test)\n",
        "actual_test = minmax_scaler.inverse_transform([y_train])"
      ],
      "execution_count": 45,
      "outputs": []
    },
    {
      "cell_type": "code",
      "metadata": {
        "id": "4dQh7QH7uo6O"
      },
      "source": [
        "# initialise new dataframe for comparison of prediction and actual value.\n",
        "data_predict_and_actual = {'actual_value':actual_test[0], 'prediction_value' : predict_test[:,0]}\n",
        "\n",
        "df_predict = pd.DataFrame(data_predict_and_actual)\n",
        "df_predict['Date'] = df['Date'][:len(df_predict['actual_value'])]"
      ],
      "execution_count": 46,
      "outputs": []
    },
    {
      "cell_type": "code",
      "metadata": {
        "id": "zJ5sB93tpUZR",
        "colab": {
          "base_uri": "https://localhost:8080/",
          "height": 310
        },
        "outputId": "15d25406-8187-4dfa-afb8-4aca027b351e"
      },
      "source": [
        "df_predict.plot(x=\"Date\" )\n",
        "plt.ylabel('Harga Rupiah', size=12)\n",
        "\n",
        "plt.xlabel('Date', size=12)\n",
        "plt.xticks(rotation=30)\n",
        "\n",
        "plt.legend([\"Actual\", \"Prediction\"], fontsize=15, loc='upper left')\n",
        "plt.show();"
      ],
      "execution_count": 52,
      "outputs": [
        {
          "output_type": "display_data",
          "data": {
            "image/png": "[encoded data removed]",
            "text/plain": [
              "<Figure size 432x288 with 1 Axes>"
            ]
          },
          "metadata": {
            "needs_background": "light"
          }
        }
      ]
    }
  ]
}