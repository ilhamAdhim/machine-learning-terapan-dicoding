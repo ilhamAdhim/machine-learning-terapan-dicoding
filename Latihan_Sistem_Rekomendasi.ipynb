{
  "nbformat": 4,
  "nbformat_minor": 0,
  "metadata": {
    "colab": {
      "name": "Latihan Sistem Rekomendasi.ipynb",
      "provenance": [],
      "authorship_tag": "ABX9TyNNRSzr0iEm+InGWjjgQaZ9",
      "include_colab_link": true
    },
    "kernelspec": {
      "name": "python3",
      "display_name": "Python 3"
    },
    "language_info": {
      "name": "python"
    }
  },
  "cells": [
    {
      "cell_type": "markdown",
      "metadata": {
        "id": "view-in-github",
        "colab_type": "text"
      },
      "source": [
        "<a href=\"https://colab.research.google.com/github/ilhamAdhim/machine-learning-terapan-dicoding/blob/main/Latihan_Sistem_Rekomendasi.ipynb\" target=\"_parent\"><img src=\"https://colab.research.google.com/assets/colab-badge.svg\" alt=\"Open In Colab\"/></a>"
      ]
    },
    {
      "cell_type": "code",
      "metadata": {
        "colab": {
          "base_uri": "https://localhost:8080/"
        },
        "id": "X_dxr1T_Wice",
        "outputId": "b8bdeade-fdc2-4939-dd3f-1b4d83e00ef2"
      },
      "source": [
        "!wget https://archive.ics.uci.edu/ml/machine-learning-databases/00232/RCdata.zip"
      ],
      "execution_count": 1,
      "outputs": [
        {
          "output_type": "stream",
          "name": "stdout",
          "text": [
            "--2021-11-09 06:32:12--  https://archive.ics.uci.edu/ml/machine-learning-databases/00232/RCdata.zip\n",
            "Resolving archive.ics.uci.edu (archive.ics.uci.edu)... 128.195.10.252\n",
            "Connecting to archive.ics.uci.edu (archive.ics.uci.edu)|128.195.10.252|:443... connected.\n",
            "HTTP request sent, awaiting response... 200 OK\n",
            "Length: 39674 (39K) [application/x-httpd-php]\n",
            "Saving to: ‘RCdata.zip’\n",
            "\n",
            "RCdata.zip          100%[===================>]  38.74K  --.-KB/s    in 0.07s   \n",
            "\n",
            "2021-11-09 06:32:12 (563 KB/s) - ‘RCdata.zip’ saved [39674/39674]\n",
            "\n"
          ]
        }
      ]
    },
    {
      "cell_type": "code",
      "metadata": {
        "colab": {
          "base_uri": "https://localhost:8080/"
        },
        "id": "keqM5U1pZavk",
        "outputId": "f6288ba9-b025-4d40-ce66-5a10be91f96b"
      },
      "source": [
        "!unzip /content/RCdata.zip"
      ],
      "execution_count": 2,
      "outputs": [
        {
          "output_type": "stream",
          "name": "stdout",
          "text": [
            "Archive:  /content/RCdata.zip\n",
            "  inflating: chefmozaccepts.csv      \n",
            "  inflating: chefmozcuisine.csv      \n",
            "  inflating: chefmozhours4.csv       \n",
            "  inflating: chefmozparking.csv      \n",
            "  inflating: geoplaces2.csv          \n",
            "  inflating: rating_final.csv        \n",
            "  inflating: README                  \n",
            "  inflating: usercuisine.csv         \n",
            "  inflating: userpayment.csv         \n",
            "  inflating: userprofile.csv         \n"
          ]
        }
      ]
    },
    {
      "cell_type": "code",
      "metadata": {
        "colab": {
          "base_uri": "https://localhost:8080/"
        },
        "id": "utIBznDDZfVD",
        "outputId": "b4e4cccd-8542-49a9-8365-30be346a0b3c"
      },
      "source": [
        "import pandas as pd \n",
        "\n",
        "accepts = pd.read_csv('/content/chefmozaccepts.csv')\n",
        "cuisine = pd.read_csv('/content/chefmozcuisine.csv')\n",
        "hours = pd.read_csv('/content/chefmozhours4.csv')\n",
        "parking = pd.read_csv('/content/chefmozparking.csv')\n",
        "geo = pd.read_csv('/content/geoplaces2.csv', encoding = \"ISO-8859-1\")\n",
        "usercuisine = pd.read_csv('/content/usercuisine.csv')\n",
        "payment = pd.read_csv('/content/userpayment.csv')\n",
        "profile = pd.read_csv('/content/userprofile.csv')\n",
        "rating = pd.read_csv('/content/rating_final.csv')\n",
        " \n",
        "print('Jumlah data pembayaran yang diterima restoran: ', len(accepts.placeID.unique()))\n",
        "print('Jumlah data masakan pada restoran: ', len(cuisine.placeID.unique()))\n",
        "print('Jumlah data waktu buka restoran: ', len(hours.placeID.unique()))\n",
        "print('Jumlah data lokasi restoran: ', len(geo.placeID.unique()))\n",
        "print('Jumlah data masakan pengguna: ', len(usercuisine.userID.unique()))\n",
        "print('Jumlah data profil pengguna: ', len(profile.userID.unique()))\n",
        "print('Jumlah data penilaian yang diberikan pengguna: ', len(rating.userID.unique()))\n",
        "print('Jumlah data penilaian restoran: ', len(rating.placeID.unique()))"
      ],
      "execution_count": 5,
      "outputs": [
        {
          "output_type": "stream",
          "name": "stdout",
          "text": [
            "Jumlah data pembayaran yang diterima restoran:  615\n",
            "Jumlah data masakan pada restoran:  769\n",
            "Jumlah data waktu buka restoran:  694\n",
            "Jumlah data lokasi restoran:  130\n",
            "Jumlah data masakan pengguna:  138\n",
            "Jumlah data profil pengguna:  138\n",
            "Jumlah data penilaian yang diberikan pengguna:  138\n",
            "Jumlah data penilaian restoran:  130\n"
          ]
        }
      ]
    },
    {
      "cell_type": "code",
      "metadata": {
        "colab": {
          "base_uri": "https://localhost:8080/"
        },
        "id": "qUO1kPwRZteD",
        "outputId": "7786272e-0e44-4256-a9b6-06fa27e2ef6c"
      },
      "source": [
        "accepts.info()"
      ],
      "execution_count": 6,
      "outputs": [
        {
          "output_type": "stream",
          "name": "stdout",
          "text": [
            "<class 'pandas.core.frame.DataFrame'>\n",
            "RangeIndex: 1314 entries, 0 to 1313\n",
            "Data columns (total 2 columns):\n",
            " #   Column    Non-Null Count  Dtype \n",
            "---  ------    --------------  ----- \n",
            " 0   placeID   1314 non-null   int64 \n",
            " 1   Rpayment  1314 non-null   object\n",
            "dtypes: int64(1), object(1)\n",
            "memory usage: 20.7+ KB\n"
          ]
        }
      ]
    },
    {
      "cell_type": "code",
      "metadata": {
        "colab": {
          "base_uri": "https://localhost:8080/"
        },
        "id": "C-FSCPTbZxbM",
        "outputId": "551c7e1e-ac0e-40b5-d060-4976988aa9b7"
      },
      "source": [
        "print('Banyak data: ', len(accepts.placeID.unique()))\n",
        "print('Jenis Pembayaran yang diterima: ', accepts.Rpayment.unique())"
      ],
      "execution_count": 7,
      "outputs": [
        {
          "output_type": "stream",
          "name": "stdout",
          "text": [
            "Banyak data:  615\n",
            "Jenis Pembayaran yang diterima:  ['cash' 'VISA' 'MasterCard-Eurocard' 'American_Express' 'bank_debit_cards'\n",
            " 'checks' 'Discover' 'Carte_Blanche' 'Diners_Club' 'Visa'\n",
            " 'Japan_Credit_Bureau' 'gift_certificates']\n"
          ]
        }
      ]
    },
    {
      "cell_type": "code",
      "metadata": {
        "colab": {
          "base_uri": "https://localhost:8080/"
        },
        "id": "z5JEt4CaZ1s-",
        "outputId": "685cbbe0-6ed7-42dd-fd1e-8111bd98828c"
      },
      "source": [
        "cuisine.info()"
      ],
      "execution_count": 8,
      "outputs": [
        {
          "output_type": "stream",
          "name": "stdout",
          "text": [
            "<class 'pandas.core.frame.DataFrame'>\n",
            "RangeIndex: 916 entries, 0 to 915\n",
            "Data columns (total 2 columns):\n",
            " #   Column    Non-Null Count  Dtype \n",
            "---  ------    --------------  ----- \n",
            " 0   placeID   916 non-null    int64 \n",
            " 1   Rcuisine  916 non-null    object\n",
            "dtypes: int64(1), object(1)\n",
            "memory usage: 14.4+ KB\n"
          ]
        }
      ]
    },
    {
      "cell_type": "code",
      "metadata": {
        "colab": {
          "base_uri": "https://localhost:8080/"
        },
        "id": "-IJUKrtRa84a",
        "outputId": "f3a15fe4-e285-40fc-c99d-ed79d5a1992d"
      },
      "source": [
        "print('Banyak tipe masakan: ', len(cuisine.Rcuisine.unique()))\n",
        "print('Tipe masakan: ', cuisine.Rcuisine.unique())"
      ],
      "execution_count": 9,
      "outputs": [
        {
          "output_type": "stream",
          "name": "stdout",
          "text": [
            "Banyak tipe masakan:  59\n",
            "Tipe masakan:  ['Spanish' 'Italian' 'Latin_American' 'Mexican' 'Fast_Food' 'Burgers'\n",
            " 'Dessert-Ice_Cream' 'Hot_Dogs' 'Steaks' 'Asian' 'International'\n",
            " 'Mongolian' 'Vegetarian' 'Brazilian' 'Cafe-Coffee_Shop' 'Cafeteria'\n",
            " 'Contemporary' 'Deli-Sandwiches' 'Diner' 'Japanese' 'Sushi' 'Seafood'\n",
            " 'Chinese' 'Bar' 'Bar_Pub_Brewery' 'Pizzeria' 'Mediterranean' 'American'\n",
            " 'Family' 'Caribbean' 'African' 'Breakfast-Brunch' 'Regional' 'Afghan'\n",
            " 'Bakery' 'Game' 'Armenian' 'Vietnamese' 'Korean' 'Thai' 'Barbecue'\n",
            " 'Polish' 'Dutch-Belgian' 'French' 'German' 'Southwestern' 'Persian'\n",
            " 'Ethiopian' 'Juice' 'Soup' 'Continental-European' 'Greek' 'Southern'\n",
            " 'Eastern_European' 'California' 'Bagels' 'Turkish' 'Organic-Healthy'\n",
            " 'Fine_Dining']\n"
          ]
        }
      ]
    },
    {
      "cell_type": "code",
      "metadata": {
        "colab": {
          "base_uri": "https://localhost:8080/"
        },
        "id": "aFavwTtDbA10",
        "outputId": "d8d37fae-85d1-4a2c-fb40-8f0c0714bac3"
      },
      "source": [
        "print(profile.shape)"
      ],
      "execution_count": 10,
      "outputs": [
        {
          "output_type": "stream",
          "name": "stdout",
          "text": [
            "(138, 19)\n"
          ]
        }
      ]
    },
    {
      "cell_type": "code",
      "metadata": {
        "colab": {
          "base_uri": "https://localhost:8080/",
          "height": 274
        },
        "id": "ux7p69K3bDSq",
        "outputId": "6fbc4538-3410-40c4-99c1-48a7c1cec53a"
      },
      "source": [
        "profile.head()"
      ],
      "execution_count": 11,
      "outputs": [
        {
          "output_type": "execute_result",
          "data": {
            "text/html": [
              "<div>\n",
              "<style scoped>\n",
              "    .dataframe tbody tr th:only-of-type {\n",
              "        vertical-align: middle;\n",
              "    }\n",
              "\n",
              "    .dataframe tbody tr th {\n",
              "        vertical-align: top;\n",
              "    }\n",
              "\n",
              "    .dataframe thead th {\n",
              "        text-align: right;\n",
              "    }\n",
              "</style>\n",
              "<table border=\"1\" class=\"dataframe\">\n",
              "  <thead>\n",
              "    <tr style=\"text-align: right;\">\n",
              "      <th></th>\n",
              "      <th>userID</th>\n",
              "      <th>latitude</th>\n",
              "      <th>longitude</th>\n",
              "      <th>smoker</th>\n",
              "      <th>drink_level</th>\n",
              "      <th>dress_preference</th>\n",
              "      <th>ambience</th>\n",
              "      <th>transport</th>\n",
              "      <th>marital_status</th>\n",
              "      <th>hijos</th>\n",
              "      <th>birth_year</th>\n",
              "      <th>interest</th>\n",
              "      <th>personality</th>\n",
              "      <th>religion</th>\n",
              "      <th>activity</th>\n",
              "      <th>color</th>\n",
              "      <th>weight</th>\n",
              "      <th>budget</th>\n",
              "      <th>height</th>\n",
              "    </tr>\n",
              "  </thead>\n",
              "  <tbody>\n",
              "    <tr>\n",
              "      <th>0</th>\n",
              "      <td>U1001</td>\n",
              "      <td>22.139997</td>\n",
              "      <td>-100.978803</td>\n",
              "      <td>false</td>\n",
              "      <td>abstemious</td>\n",
              "      <td>informal</td>\n",
              "      <td>family</td>\n",
              "      <td>on foot</td>\n",
              "      <td>single</td>\n",
              "      <td>independent</td>\n",
              "      <td>1989</td>\n",
              "      <td>variety</td>\n",
              "      <td>thrifty-protector</td>\n",
              "      <td>none</td>\n",
              "      <td>student</td>\n",
              "      <td>black</td>\n",
              "      <td>69</td>\n",
              "      <td>medium</td>\n",
              "      <td>1.77</td>\n",
              "    </tr>\n",
              "    <tr>\n",
              "      <th>1</th>\n",
              "      <td>U1002</td>\n",
              "      <td>22.150087</td>\n",
              "      <td>-100.983325</td>\n",
              "      <td>false</td>\n",
              "      <td>abstemious</td>\n",
              "      <td>informal</td>\n",
              "      <td>family</td>\n",
              "      <td>public</td>\n",
              "      <td>single</td>\n",
              "      <td>independent</td>\n",
              "      <td>1990</td>\n",
              "      <td>technology</td>\n",
              "      <td>hunter-ostentatious</td>\n",
              "      <td>Catholic</td>\n",
              "      <td>student</td>\n",
              "      <td>red</td>\n",
              "      <td>40</td>\n",
              "      <td>low</td>\n",
              "      <td>1.87</td>\n",
              "    </tr>\n",
              "    <tr>\n",
              "      <th>2</th>\n",
              "      <td>U1003</td>\n",
              "      <td>22.119847</td>\n",
              "      <td>-100.946527</td>\n",
              "      <td>false</td>\n",
              "      <td>social drinker</td>\n",
              "      <td>formal</td>\n",
              "      <td>family</td>\n",
              "      <td>public</td>\n",
              "      <td>single</td>\n",
              "      <td>independent</td>\n",
              "      <td>1989</td>\n",
              "      <td>none</td>\n",
              "      <td>hard-worker</td>\n",
              "      <td>Catholic</td>\n",
              "      <td>student</td>\n",
              "      <td>blue</td>\n",
              "      <td>60</td>\n",
              "      <td>low</td>\n",
              "      <td>1.69</td>\n",
              "    </tr>\n",
              "    <tr>\n",
              "      <th>3</th>\n",
              "      <td>U1004</td>\n",
              "      <td>18.867000</td>\n",
              "      <td>-99.183000</td>\n",
              "      <td>false</td>\n",
              "      <td>abstemious</td>\n",
              "      <td>informal</td>\n",
              "      <td>family</td>\n",
              "      <td>public</td>\n",
              "      <td>single</td>\n",
              "      <td>independent</td>\n",
              "      <td>1940</td>\n",
              "      <td>variety</td>\n",
              "      <td>hard-worker</td>\n",
              "      <td>none</td>\n",
              "      <td>professional</td>\n",
              "      <td>green</td>\n",
              "      <td>44</td>\n",
              "      <td>medium</td>\n",
              "      <td>1.53</td>\n",
              "    </tr>\n",
              "    <tr>\n",
              "      <th>4</th>\n",
              "      <td>U1005</td>\n",
              "      <td>22.183477</td>\n",
              "      <td>-100.959891</td>\n",
              "      <td>false</td>\n",
              "      <td>abstemious</td>\n",
              "      <td>no preference</td>\n",
              "      <td>family</td>\n",
              "      <td>public</td>\n",
              "      <td>single</td>\n",
              "      <td>independent</td>\n",
              "      <td>1992</td>\n",
              "      <td>none</td>\n",
              "      <td>thrifty-protector</td>\n",
              "      <td>Catholic</td>\n",
              "      <td>student</td>\n",
              "      <td>black</td>\n",
              "      <td>65</td>\n",
              "      <td>medium</td>\n",
              "      <td>1.69</td>\n",
              "    </tr>\n",
              "  </tbody>\n",
              "</table>\n",
              "</div>"
            ],
            "text/plain": [
              "  userID   latitude   longitude smoker  ...  color weight  budget height\n",
              "0  U1001  22.139997 -100.978803  false  ...  black     69  medium   1.77\n",
              "1  U1002  22.150087 -100.983325  false  ...    red     40     low   1.87\n",
              "2  U1003  22.119847 -100.946527  false  ...   blue     60     low   1.69\n",
              "3  U1004  18.867000  -99.183000  false  ...  green     44  medium   1.53\n",
              "4  U1005  22.183477 -100.959891  false  ...  black     65  medium   1.69\n",
              "\n",
              "[5 rows x 19 columns]"
            ]
          },
          "metadata": {},
          "execution_count": 11
        }
      ]
    },
    {
      "cell_type": "code",
      "metadata": {
        "colab": {
          "base_uri": "https://localhost:8080/",
          "height": 203
        },
        "id": "N_Bl61qJf4xV",
        "outputId": "aec88dd2-974f-40e5-fc7d-f8ec343ccd3e"
      },
      "source": [
        "rating.head()"
      ],
      "execution_count": 12,
      "outputs": [
        {
          "output_type": "execute_result",
          "data": {
            "text/html": [
              "<div>\n",
              "<style scoped>\n",
              "    .dataframe tbody tr th:only-of-type {\n",
              "        vertical-align: middle;\n",
              "    }\n",
              "\n",
              "    .dataframe tbody tr th {\n",
              "        vertical-align: top;\n",
              "    }\n",
              "\n",
              "    .dataframe thead th {\n",
              "        text-align: right;\n",
              "    }\n",
              "</style>\n",
              "<table border=\"1\" class=\"dataframe\">\n",
              "  <thead>\n",
              "    <tr style=\"text-align: right;\">\n",
              "      <th></th>\n",
              "      <th>userID</th>\n",
              "      <th>placeID</th>\n",
              "      <th>rating</th>\n",
              "      <th>food_rating</th>\n",
              "      <th>service_rating</th>\n",
              "    </tr>\n",
              "  </thead>\n",
              "  <tbody>\n",
              "    <tr>\n",
              "      <th>0</th>\n",
              "      <td>U1077</td>\n",
              "      <td>135085</td>\n",
              "      <td>2</td>\n",
              "      <td>2</td>\n",
              "      <td>2</td>\n",
              "    </tr>\n",
              "    <tr>\n",
              "      <th>1</th>\n",
              "      <td>U1077</td>\n",
              "      <td>135038</td>\n",
              "      <td>2</td>\n",
              "      <td>2</td>\n",
              "      <td>1</td>\n",
              "    </tr>\n",
              "    <tr>\n",
              "      <th>2</th>\n",
              "      <td>U1077</td>\n",
              "      <td>132825</td>\n",
              "      <td>2</td>\n",
              "      <td>2</td>\n",
              "      <td>2</td>\n",
              "    </tr>\n",
              "    <tr>\n",
              "      <th>3</th>\n",
              "      <td>U1077</td>\n",
              "      <td>135060</td>\n",
              "      <td>1</td>\n",
              "      <td>2</td>\n",
              "      <td>2</td>\n",
              "    </tr>\n",
              "    <tr>\n",
              "      <th>4</th>\n",
              "      <td>U1068</td>\n",
              "      <td>135104</td>\n",
              "      <td>1</td>\n",
              "      <td>1</td>\n",
              "      <td>2</td>\n",
              "    </tr>\n",
              "  </tbody>\n",
              "</table>\n",
              "</div>"
            ],
            "text/plain": [
              "  userID  placeID  rating  food_rating  service_rating\n",
              "0  U1077   135085       2            2               2\n",
              "1  U1077   135038       2            2               1\n",
              "2  U1077   132825       2            2               2\n",
              "3  U1077   135060       1            2               2\n",
              "4  U1068   135104       1            1               2"
            ]
          },
          "metadata": {},
          "execution_count": 12
        }
      ]
    },
    {
      "cell_type": "code",
      "metadata": {
        "colab": {
          "base_uri": "https://localhost:8080/",
          "height": 295
        },
        "id": "MQ6yi0q8f798",
        "outputId": "96ec2d80-b740-4b2d-f21a-b272351ec793"
      },
      "source": [
        "rating.describe()"
      ],
      "execution_count": 13,
      "outputs": [
        {
          "output_type": "execute_result",
          "data": {
            "text/html": [
              "<div>\n",
              "<style scoped>\n",
              "    .dataframe tbody tr th:only-of-type {\n",
              "        vertical-align: middle;\n",
              "    }\n",
              "\n",
              "    .dataframe tbody tr th {\n",
              "        vertical-align: top;\n",
              "    }\n",
              "\n",
              "    .dataframe thead th {\n",
              "        text-align: right;\n",
              "    }\n",
              "</style>\n",
              "<table border=\"1\" class=\"dataframe\">\n",
              "  <thead>\n",
              "    <tr style=\"text-align: right;\">\n",
              "      <th></th>\n",
              "      <th>placeID</th>\n",
              "      <th>rating</th>\n",
              "      <th>food_rating</th>\n",
              "      <th>service_rating</th>\n",
              "    </tr>\n",
              "  </thead>\n",
              "  <tbody>\n",
              "    <tr>\n",
              "      <th>count</th>\n",
              "      <td>1161.000000</td>\n",
              "      <td>1161.000000</td>\n",
              "      <td>1161.000000</td>\n",
              "      <td>1161.000000</td>\n",
              "    </tr>\n",
              "    <tr>\n",
              "      <th>mean</th>\n",
              "      <td>134192.041344</td>\n",
              "      <td>1.199828</td>\n",
              "      <td>1.215332</td>\n",
              "      <td>1.090439</td>\n",
              "    </tr>\n",
              "    <tr>\n",
              "      <th>std</th>\n",
              "      <td>1100.916275</td>\n",
              "      <td>0.773282</td>\n",
              "      <td>0.792294</td>\n",
              "      <td>0.790844</td>\n",
              "    </tr>\n",
              "    <tr>\n",
              "      <th>min</th>\n",
              "      <td>132560.000000</td>\n",
              "      <td>0.000000</td>\n",
              "      <td>0.000000</td>\n",
              "      <td>0.000000</td>\n",
              "    </tr>\n",
              "    <tr>\n",
              "      <th>25%</th>\n",
              "      <td>132856.000000</td>\n",
              "      <td>1.000000</td>\n",
              "      <td>1.000000</td>\n",
              "      <td>0.000000</td>\n",
              "    </tr>\n",
              "    <tr>\n",
              "      <th>50%</th>\n",
              "      <td>135030.000000</td>\n",
              "      <td>1.000000</td>\n",
              "      <td>1.000000</td>\n",
              "      <td>1.000000</td>\n",
              "    </tr>\n",
              "    <tr>\n",
              "      <th>75%</th>\n",
              "      <td>135059.000000</td>\n",
              "      <td>2.000000</td>\n",
              "      <td>2.000000</td>\n",
              "      <td>2.000000</td>\n",
              "    </tr>\n",
              "    <tr>\n",
              "      <th>max</th>\n",
              "      <td>135109.000000</td>\n",
              "      <td>2.000000</td>\n",
              "      <td>2.000000</td>\n",
              "      <td>2.000000</td>\n",
              "    </tr>\n",
              "  </tbody>\n",
              "</table>\n",
              "</div>"
            ],
            "text/plain": [
              "             placeID       rating  food_rating  service_rating\n",
              "count    1161.000000  1161.000000  1161.000000     1161.000000\n",
              "mean   134192.041344     1.199828     1.215332        1.090439\n",
              "std      1100.916275     0.773282     0.792294        0.790844\n",
              "min    132560.000000     0.000000     0.000000        0.000000\n",
              "25%    132856.000000     1.000000     1.000000        0.000000\n",
              "50%    135030.000000     1.000000     1.000000        1.000000\n",
              "75%    135059.000000     2.000000     2.000000        2.000000\n",
              "max    135109.000000     2.000000     2.000000        2.000000"
            ]
          },
          "metadata": {},
          "execution_count": 13
        }
      ]
    },
    {
      "cell_type": "code",
      "metadata": {
        "colab": {
          "base_uri": "https://localhost:8080/"
        },
        "id": "SUEcU8Djf-lz",
        "outputId": "a708882a-614d-483c-f2e6-b10cc0012984"
      },
      "source": [
        "print('Jumlah userID: ', len(rating.userID.unique()))\n",
        "print('Jumlah placeID: ', len(rating.placeID.unique()))\n",
        "print('Jumlah data rating: ', len(rating))"
      ],
      "execution_count": 14,
      "outputs": [
        {
          "output_type": "stream",
          "name": "stdout",
          "text": [
            "Jumlah userID:  138\n",
            "Jumlah placeID:  130\n",
            "Jumlah data rating:  1161\n"
          ]
        }
      ]
    }
  ]
}